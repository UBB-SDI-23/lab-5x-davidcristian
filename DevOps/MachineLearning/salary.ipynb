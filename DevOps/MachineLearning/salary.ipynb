{
 "cells": [
  {
   "cell_type": "code",
   "execution_count": 1,
   "metadata": {},
   "outputs": [],
   "source": [
    "import pandas as pd\n",
    "import torch\n",
    "from torch import nn\n",
    "from torch.utils.data import TensorDataset, DataLoader\n",
    "from sklearn.model_selection import train_test_split\n",
    "from sklearn.preprocessing import StandardScaler\n",
    "from datetime import datetime\n",
    "import os\n",
    "import numpy as np"
   ]
  },
  {
   "cell_type": "code",
   "execution_count": 10,
   "metadata": {},
   "outputs": [],
   "source": [
    "# Cell 2: Load the datasets\n",
    "base_path = \"../DatabaseHelpers/resources/\"\n",
    "n_rows = 100_000\n",
    "\n",
    "employees = pd.read_csv(base_path + 'employees.csv', names=['EmployeeId','FirstName','LastName','Gender','EmploymentDate','TerminationDate','Salary','RoleId','UserId']\n",
    "                        # , nrows=n_rows\n",
    "                        )\n",
    "roles = pd.read_csv(base_path + 'employee_roles.csv', names=['RoleId','RoleName','Description','Level','UserId']\n",
    "                    # , nrows=n_rows\n",
    "                    )\n",
    "\n",
    "employees.drop(columns=['EmployeeId','FirstName','LastName','Gender', 'UserId'], inplace=True)\n",
    "roles.drop(columns=['Description','Level','UserId'], inplace=True)"
   ]
  },
  {
   "cell_type": "code",
   "execution_count": 11,
   "metadata": {},
   "outputs": [
    {
     "data": {
      "text/html": [
       "<div>\n",
       "<style scoped>\n",
       "    .dataframe tbody tr th:only-of-type {\n",
       "        vertical-align: middle;\n",
       "    }\n",
       "\n",
       "    .dataframe tbody tr th {\n",
       "        vertical-align: top;\n",
       "    }\n",
       "\n",
       "    .dataframe thead th {\n",
       "        text-align: right;\n",
       "    }\n",
       "</style>\n",
       "<table border=\"1\" class=\"dataframe\">\n",
       "  <thead>\n",
       "    <tr style=\"text-align: right;\">\n",
       "      <th></th>\n",
       "      <th>EmploymentDate</th>\n",
       "      <th>TerminationDate</th>\n",
       "      <th>Salary</th>\n",
       "      <th>RoleId</th>\n",
       "      <th>RoleName</th>\n",
       "      <th>Tenure</th>\n",
       "    </tr>\n",
       "  </thead>\n",
       "  <tbody>\n",
       "    <tr>\n",
       "      <th>0</th>\n",
       "      <td>2022-06-15</td>\n",
       "      <td>2023-05-30</td>\n",
       "      <td>39991.40</td>\n",
       "      <td>166576</td>\n",
       "      <td>Engineer, communications</td>\n",
       "      <td>349</td>\n",
       "    </tr>\n",
       "    <tr>\n",
       "      <th>1</th>\n",
       "      <td>2021-07-13</td>\n",
       "      <td>2023-05-30</td>\n",
       "      <td>99426.36</td>\n",
       "      <td>610063</td>\n",
       "      <td>Horticultural consultant</td>\n",
       "      <td>686</td>\n",
       "    </tr>\n",
       "    <tr>\n",
       "      <th>2</th>\n",
       "      <td>2018-07-05</td>\n",
       "      <td>2019-10-27</td>\n",
       "      <td>85841.31</td>\n",
       "      <td>421751</td>\n",
       "      <td>Surveyor, hydrographic</td>\n",
       "      <td>479</td>\n",
       "    </tr>\n",
       "    <tr>\n",
       "      <th>3</th>\n",
       "      <td>2018-07-29</td>\n",
       "      <td>2023-05-30</td>\n",
       "      <td>81520.31</td>\n",
       "      <td>907181</td>\n",
       "      <td>Estate manager/land agent</td>\n",
       "      <td>1766</td>\n",
       "    </tr>\n",
       "    <tr>\n",
       "      <th>4</th>\n",
       "      <td>2016-12-23</td>\n",
       "      <td>2023-05-30</td>\n",
       "      <td>84760.28</td>\n",
       "      <td>725699</td>\n",
       "      <td>Probation officer</td>\n",
       "      <td>2349</td>\n",
       "    </tr>\n",
       "  </tbody>\n",
       "</table>\n",
       "</div>"
      ],
      "text/plain": [
       "  EmploymentDate TerminationDate    Salary  RoleId                   RoleName  \\\n",
       "0     2022-06-15      2023-05-30  39991.40  166576   Engineer, communications   \n",
       "1     2021-07-13      2023-05-30  99426.36  610063   Horticultural consultant   \n",
       "2     2018-07-05      2019-10-27  85841.31  421751     Surveyor, hydrographic   \n",
       "3     2018-07-29      2023-05-30  81520.31  907181  Estate manager/land agent   \n",
       "4     2016-12-23      2023-05-30  84760.28  725699          Probation officer   \n",
       "\n",
       "   Tenure  \n",
       "0     349  \n",
       "1     686  \n",
       "2     479  \n",
       "3    1766  \n",
       "4    2349  "
      ]
     },
     "execution_count": 11,
     "metadata": {},
     "output_type": "execute_result"
    }
   ],
   "source": [
    "# Cell 3: Preprocess the data\n",
    "# Merge datasets on RoleId\n",
    "data = pd.merge(employees, roles, how='left', on='RoleId')\n",
    "# data = data.drop_duplicates('RoleName', keep='first')\n",
    "\n",
    "# Handle missing termination dates\n",
    "today = datetime.today().strftime('%Y-%m-%d')\n",
    "data['TerminationDate'].fillna(today, inplace=True)\n",
    "\n",
    "# Calculate tenure\n",
    "data['EmploymentDate'] = pd.to_datetime(data['EmploymentDate'])\n",
    "data['TerminationDate'] = pd.to_datetime(data['TerminationDate'])\n",
    "data['Tenure'] = (data['TerminationDate'] - data['EmploymentDate']).dt.days\n",
    "\n",
    "data.head()"
   ]
  },
  {
   "cell_type": "code",
   "execution_count": 12,
   "metadata": {},
   "outputs": [],
   "source": [
    "# Cell 4: Split the data\n",
    "# Convert categorical data to numeric\n",
    "data['RoleName'] = data['RoleName'].astype('category').cat.codes\n",
    "\n",
    "X = data[['RoleName', 'Tenure']]\n",
    "y = data['Salary']\n",
    "X_train, X_test, y_train, y_test = train_test_split(X, y, test_size=0.2, random_state=42)\n",
    "\n",
    "# Preprocess the data\n",
    "scaler = StandardScaler()\n",
    "X_train = scaler.fit_transform(X_train)\n",
    "X_test = scaler.transform(X_test)\n",
    "\n",
    "# Convert to tensor\n",
    "X_train = torch.tensor(X_train, dtype=torch.float32)\n",
    "X_test = torch.tensor(X_test, dtype=torch.float32)\n",
    "y_train = torch.tensor(y_train.values, dtype=torch.float32).view(-1, 1)\n",
    "y_test = torch.tensor(y_test.values, dtype=torch.float32).view(-1, 1)\n",
    "\n",
    "# Load data\n",
    "train_data = TensorDataset(X_train, y_train)\n",
    "test_data = TensorDataset(X_test, y_test)\n",
    "train_loader = DataLoader(train_data, batch_size=64, shuffle=True)\n",
    "test_loader = DataLoader(test_data, batch_size=64, shuffle=False)\n",
    "\n",
    "# Define the model\n",
    "model = nn.Sequential(\n",
    "    nn.Linear(X_train.shape[1], 64),\n",
    "    nn.ReLU(),\n",
    "    nn.Dropout(0.5),  # Add dropout layer\n",
    "    nn.Linear(64, 32),\n",
    "    nn.ReLU(),\n",
    "    nn.Linear(32, 1),\n",
    ")\n",
    "\n",
    "# Define loss and optimizer\n",
    "criterion = nn.MSELoss()\n",
    "optimizer = torch.optim.Adam(model.parameters(), lr=0.001)"
   ]
  },
  {
   "cell_type": "code",
   "execution_count": 13,
   "metadata": {},
   "outputs": [
    {
     "name": "stdout",
     "output_type": "stream",
     "text": [
      "Epoch: 1, Loss: 866880640.0\n",
      "Epoch: 2, Loss: 699918208.0\n",
      "Epoch: 3, Loss: 809349696.0\n",
      "Epoch: 4, Loss: 715106304.0\n",
      "Epoch: 5, Loss: 763719424.0\n",
      "Epoch: 6, Loss: 837620736.0\n",
      "Epoch: 7, Loss: 609408256.0\n",
      "Epoch: 8, Loss: 654520064.0\n",
      "Epoch: 9, Loss: 754658176.0\n",
      "Epoch: 10, Loss: 769740160.0\n"
     ]
    }
   ],
   "source": [
    "# Cell 5: Train the model\n",
    "n_epochs = 10\n",
    "for epoch in range(n_epochs):\n",
    "    for inputs, targets in train_loader:\n",
    "        # Forward pass\n",
    "        output = model(inputs)\n",
    "        loss = criterion(output, targets)\n",
    "        \n",
    "        # Backward and optimize\n",
    "        optimizer.zero_grad()\n",
    "        loss.backward()\n",
    "        optimizer.step()\n",
    "\n",
    "    # Print loss for every epoch\n",
    "    print(f'Epoch: {epoch + 1}, Loss: {loss.item()}')"
   ]
  },
  {
   "cell_type": "code",
   "execution_count": 14,
   "metadata": {},
   "outputs": [
    {
     "name": "stdout",
     "output_type": "stream",
     "text": [
      "MSE: 675335654.32832\n"
     ]
    }
   ],
   "source": [
    "# Cell 6: Evaluate the model\n",
    "model.eval()\n",
    "with torch.no_grad():\n",
    "    total_loss = 0\n",
    "    total_count = 0\n",
    "    for inputs, targets in test_loader:\n",
    "        output = model(inputs)\n",
    "        loss = criterion(output, targets)\n",
    "        total_loss += loss.item() * inputs.size(0)\n",
    "        total_count += inputs.size(0)\n",
    "    mse = total_loss / total_count\n",
    "    print('MSE:', mse)"
   ]
  },
  {
   "cell_type": "code",
   "execution_count": 15,
   "metadata": {},
   "outputs": [
    {
     "name": "stdout",
     "output_type": "stream",
     "text": [
      "RMSE: 25987.220981249997\n"
     ]
    }
   ],
   "source": [
    "import numpy as np\n",
    "rmse = np.sqrt(mse)\n",
    "print('RMSE:', rmse)"
   ]
  },
  {
   "cell_type": "code",
   "execution_count": 16,
   "metadata": {},
   "outputs": [
    {
     "name": "stdout",
     "output_type": "stream",
     "text": [
      "============== Diagnostic Run torch.onnx.export version 2.0.0+cpu ==============\n",
      "verbose: False, log level: Level.ERROR\n",
      "======================= 0 NONE 0 NOTE 0 WARNING 0 ERROR ========================\n",
      "\n"
     ]
    }
   ],
   "source": [
    "# Cell 7: Save the model\n",
    "if not os.path.exists('models'):\n",
    "    os.makedirs('models')\n",
    "\n",
    "dummy_input = torch.randn(1, X_train.shape[1])\n",
    "torch.onnx.export(model, dummy_input, \"models/salary_predictor.onnx\")\n",
    "\n",
    "data.to_csv('models/data.csv', sep=',')"
   ]
  },
  {
   "cell_type": "code",
   "execution_count": 20,
   "metadata": {},
   "outputs": [
    {
     "name": "stdout",
     "output_type": "stream",
     "text": [
      "    RoleName  Tenure\n",
      "0  Assistant       3\n",
      "1    Analyst   10000\n",
      "Prediction for sample 0: 74019.7578125\n",
      "Prediction for sample 1: 73216.8671875\n"
     ]
    }
   ],
   "source": [
    "# Assuming `new_data` is your new input data as a DataFrame\n",
    "new_data = pd.DataFrame({\n",
    "    'RoleName': ['Assistant', 'Analyst'],\n",
    "    'Tenure': [3, 10000],\n",
    "})\n",
    "\n",
    "# print the samples\n",
    "print(new_data)\n",
    "\n",
    "# Remember to preprocess the new data the same way as the training data\n",
    "new_data['RoleName'] = new_data['RoleName'].astype('category').cat.codes\n",
    "new_data = scaler.transform(new_data)  # Using the same scaler used for training\n",
    "new_data = torch.tensor(new_data, dtype=torch.float32)\n",
    "\n",
    "# Now we can predict with the model\n",
    "model.eval()\n",
    "with torch.no_grad():\n",
    "    predictions = model(new_data)\n",
    "\n",
    "# Convert the predictions to a numpy array and print them\n",
    "predictions_np = predictions.numpy()\n",
    "\n",
    "for i, prediction in enumerate(predictions_np):\n",
    "    print(f\"Prediction for sample {i}: {prediction[0]}\")"
   ]
  }
 ],
 "metadata": {
  "kernelspec": {
   "display_name": "Python 3",
   "language": "python",
   "name": "python3"
  },
  "language_info": {
   "codemirror_mode": {
    "name": "ipython",
    "version": 3
   },
   "file_extension": ".py",
   "mimetype": "text/x-python",
   "name": "python",
   "nbconvert_exporter": "python",
   "pygments_lexer": "ipython3",
   "version": "3.10.8"
  },
  "orig_nbformat": 4
 },
 "nbformat": 4,
 "nbformat_minor": 2
}
